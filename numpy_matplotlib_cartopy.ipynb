{
 "cells": [
  {
   "cell_type": "code",
   "execution_count": 2,
   "id": "9f6009bc-0cc8-4ad2-b40e-08dbf91f4187",
   "metadata": {},
   "outputs": [],
   "source": [
    "import numpy \n",
    "import matplotlib as pyplot"
   ]
  },
  {
   "cell_type": "code",
   "execution_count": null,
   "id": "6d9a59c2-b1a1-4cb7-a099-4ca0b4136b75",
   "metadata": {},
   "outputs": [],
   "source": [
    "# 気候データでよく用いられる、 cartopyを用いたnumpyとmatplotlibの利用\n",
    "- "
   ]
  }
 ],
 "metadata": {
  "kernelspec": {
   "display_name": "Python 3 (ipykernel)",
   "language": "python",
   "name": "python3"
  },
  "language_info": {
   "codemirror_mode": {
    "name": "ipython",
    "version": 3
   },
   "file_extension": ".py",
   "mimetype": "text/x-python",
   "name": "python",
   "nbconvert_exporter": "python",
   "pygments_lexer": "ipython3",
   "version": "3.9.7"
  }
 },
 "nbformat": 4,
 "nbformat_minor": 5
}
